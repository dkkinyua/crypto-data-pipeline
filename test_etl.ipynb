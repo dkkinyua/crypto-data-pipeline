{
 "cells": [
  {
   "cell_type": "markdown",
   "id": "928b53af",
   "metadata": {},
   "source": [
    "### Crypto Data API pipeline\n",
    "- Get data from CoinGecko API\n",
    "- Transform and get the data we need from the whole JSON set\n",
    "- Load into a db that isn't on port 5432, change in postgresql.conf file where port = 5432 to port = 8000 or sth else\n"
   ]
  },
  {
   "cell_type": "markdown",
   "id": "fa555875",
   "metadata": {},
   "source": [
    "#### 1. Extract data from API"
   ]
  },
  {
   "cell_type": "code",
   "execution_count": null,
   "id": "a671861d",
   "metadata": {},
   "outputs": [],
   "source": [
    "import os\n",
    "import requests\n",
    "import pandas as pd\n",
    "from dotenv import load_dotenv\n",
    "from sqlalchemy import create_engine\n",
    "import matplotlib.pyplot as plt\n",
    "import matplotlib.dates as mdates\n",
    "\n",
    "load_dotenv()\n",
    "API_KEY = os.getenv(\"API_KEY\")\n",
    "DB_URL = os.getenv(\"DB_URL\")\n",
    "TEST_DB_URL = os.getenv(\"TEST_DB_URL\") # port 5005 on students server\n",
    "#print(TEST_DB_URL)"
   ]
  },
  {
   "cell_type": "code",
   "execution_count": 2,
   "id": "b2feab13",
   "metadata": {},
   "outputs": [
    {
     "data": {
      "text/plain": [
       "{'name': ['Cardano',\n",
       "  'Polkadot',\n",
       "  'Chainlink',\n",
       "  'Litecoin',\n",
       "  'Uniswap',\n",
       "  'Stellar',\n",
       "  'Aptos',\n",
       "  'XRP',\n",
       "  'Avalanche'],\n",
       " 'current_price': [0.697935,\n",
       "  4.19,\n",
       "  14.39,\n",
       "  90.53,\n",
       "  6.8,\n",
       "  0.274735,\n",
       "  4.98,\n",
       "  2.25,\n",
       "  21.45],\n",
       " 'market_cap': [25197582913,\n",
       "  6380775860,\n",
       "  9452957167,\n",
       "  6874421327,\n",
       "  4087409209,\n",
       "  8564133643,\n",
       "  3141318308,\n",
       "  132044882678,\n",
       "  9043235093],\n",
       " 'total_volume': [470370952,\n",
       "  161377373,\n",
       "  289883489,\n",
       "  259733253,\n",
       "  462490678,\n",
       "  173830325,\n",
       "  116282224,\n",
       "  2066753989,\n",
       "  328853114],\n",
       " 'time': ['2025-06-04T09:03:31.651Z',\n",
       "  '2025-06-04T09:03:31.149Z',\n",
       "  '2025-06-04T09:03:36.071Z',\n",
       "  '2025-06-04T09:03:31.083Z',\n",
       "  '2025-06-04T09:03:34.109Z',\n",
       "  '2025-06-04T09:03:31.822Z',\n",
       "  '2025-06-04T09:03:33.703Z',\n",
       "  '2025-06-04T09:03:39.091Z',\n",
       "  '2025-06-04T09:03:30.989Z']}"
      ]
     },
     "execution_count": 2,
     "metadata": {},
     "output_type": "execute_result"
    }
   ],
   "source": [
    "\n",
    "coin_list = ['cardano', 'polkadot', 'chainlink', 'litecoin', 'uniswap', 'stellar', 'aptos', 'ripple', 'avalanche-2']\n",
    "name_list = []\n",
    "price_list = []\n",
    "cap_list = []\n",
    "volume_list = []\n",
    "time_list = []\n",
    "\n",
    "for coin in coin_list: # loop thru the list of coins and extract its data\n",
    "    url = f\"https://api.coingecko.com/api/v3/coins/{coin}?localization=false&tickers=false&community_data=false&developer_data=false&sparkline=false&dex_pair_format=symbol\"\n",
    "\n",
    "    headers = {\n",
    "        \"accept\": \"application/json\",\n",
    "        \"x-cg-demo-api-key\": API_KEY\n",
    "    }\n",
    "\n",
    "    response = requests.get(url, headers=headers)\n",
    "    if response.status_code == 200:\n",
    "        data = response.json()\n",
    "\n",
    "        name_list.append(data[\"name\"])\n",
    "        price_list.append(data[\"market_data\"]['current_price']['usd'])\n",
    "        cap_list.append(data['market_data']['market_cap']['usd'])\n",
    "        volume_list.append(data['market_data']['total_volume']['usd'])\n",
    "        time_list.append(data['market_data']['last_updated'])\n",
    "\n",
    "        coin_data = {\n",
    "            'name': name_list,\n",
    "            'current_price': price_list,\n",
    "            'market_cap': cap_list,\n",
    "            'total_volume': volume_list,\n",
    "            'time': time_list\n",
    "        }\n",
    "    else:\n",
    "        print(f\"Requests error: {response.status_code}, {response.text}\")\n",
    "\n",
    "coin_data"
   ]
  },
  {
   "cell_type": "code",
   "execution_count": 3,
   "id": "6ccd3476",
   "metadata": {},
   "outputs": [
    {
     "data": {
      "text/html": [
       "<div>\n",
       "<style scoped>\n",
       "    .dataframe tbody tr th:only-of-type {\n",
       "        vertical-align: middle;\n",
       "    }\n",
       "\n",
       "    .dataframe tbody tr th {\n",
       "        vertical-align: top;\n",
       "    }\n",
       "\n",
       "    .dataframe thead th {\n",
       "        text-align: right;\n",
       "    }\n",
       "</style>\n",
       "<table border=\"1\" class=\"dataframe\">\n",
       "  <thead>\n",
       "    <tr style=\"text-align: right;\">\n",
       "      <th></th>\n",
       "      <th>name</th>\n",
       "      <th>current_price</th>\n",
       "      <th>market_cap</th>\n",
       "      <th>total_volume</th>\n",
       "      <th>time</th>\n",
       "    </tr>\n",
       "  </thead>\n",
       "  <tbody>\n",
       "    <tr>\n",
       "      <th>0</th>\n",
       "      <td>Cardano</td>\n",
       "      <td>0.697935</td>\n",
       "      <td>25197582913</td>\n",
       "      <td>470370952</td>\n",
       "      <td>2025-06-04T09:03:31.651Z</td>\n",
       "    </tr>\n",
       "    <tr>\n",
       "      <th>1</th>\n",
       "      <td>Polkadot</td>\n",
       "      <td>4.190000</td>\n",
       "      <td>6380775860</td>\n",
       "      <td>161377373</td>\n",
       "      <td>2025-06-04T09:03:31.149Z</td>\n",
       "    </tr>\n",
       "    <tr>\n",
       "      <th>2</th>\n",
       "      <td>Chainlink</td>\n",
       "      <td>14.390000</td>\n",
       "      <td>9452957167</td>\n",
       "      <td>289883489</td>\n",
       "      <td>2025-06-04T09:03:36.071Z</td>\n",
       "    </tr>\n",
       "    <tr>\n",
       "      <th>3</th>\n",
       "      <td>Litecoin</td>\n",
       "      <td>90.530000</td>\n",
       "      <td>6874421327</td>\n",
       "      <td>259733253</td>\n",
       "      <td>2025-06-04T09:03:31.083Z</td>\n",
       "    </tr>\n",
       "    <tr>\n",
       "      <th>4</th>\n",
       "      <td>Uniswap</td>\n",
       "      <td>6.800000</td>\n",
       "      <td>4087409209</td>\n",
       "      <td>462490678</td>\n",
       "      <td>2025-06-04T09:03:34.109Z</td>\n",
       "    </tr>\n",
       "  </tbody>\n",
       "</table>\n",
       "</div>"
      ],
      "text/plain": [
       "        name  current_price   market_cap  total_volume  \\\n",
       "0    Cardano       0.697935  25197582913     470370952   \n",
       "1   Polkadot       4.190000   6380775860     161377373   \n",
       "2  Chainlink      14.390000   9452957167     289883489   \n",
       "3   Litecoin      90.530000   6874421327     259733253   \n",
       "4    Uniswap       6.800000   4087409209     462490678   \n",
       "\n",
       "                       time  \n",
       "0  2025-06-04T09:03:31.651Z  \n",
       "1  2025-06-04T09:03:31.149Z  \n",
       "2  2025-06-04T09:03:36.071Z  \n",
       "3  2025-06-04T09:03:31.083Z  \n",
       "4  2025-06-04T09:03:34.109Z  "
      ]
     },
     "execution_count": 3,
     "metadata": {},
     "output_type": "execute_result"
    }
   ],
   "source": [
    "df = pd.DataFrame(coin_data)\n",
    "df.head()"
   ]
  },
  {
   "cell_type": "code",
   "execution_count": 4,
   "id": "fe2ff734",
   "metadata": {},
   "outputs": [
    {
     "data": {
      "text/html": [
       "<div>\n",
       "<style scoped>\n",
       "    .dataframe tbody tr th:only-of-type {\n",
       "        vertical-align: middle;\n",
       "    }\n",
       "\n",
       "    .dataframe tbody tr th {\n",
       "        vertical-align: top;\n",
       "    }\n",
       "\n",
       "    .dataframe thead th {\n",
       "        text-align: right;\n",
       "    }\n",
       "</style>\n",
       "<table border=\"1\" class=\"dataframe\">\n",
       "  <thead>\n",
       "    <tr style=\"text-align: right;\">\n",
       "      <th></th>\n",
       "      <th>name</th>\n",
       "      <th>current_price</th>\n",
       "      <th>market_cap</th>\n",
       "      <th>total_volume</th>\n",
       "      <th>time</th>\n",
       "    </tr>\n",
       "  </thead>\n",
       "  <tbody>\n",
       "    <tr>\n",
       "      <th>0</th>\n",
       "      <td>Cardano</td>\n",
       "      <td>0.697935</td>\n",
       "      <td>25197582913</td>\n",
       "      <td>470370952</td>\n",
       "      <td>2025-06-04 09:03:31.651000+00:00</td>\n",
       "    </tr>\n",
       "    <tr>\n",
       "      <th>1</th>\n",
       "      <td>Polkadot</td>\n",
       "      <td>4.190000</td>\n",
       "      <td>6380775860</td>\n",
       "      <td>161377373</td>\n",
       "      <td>2025-06-04 09:03:31.149000+00:00</td>\n",
       "    </tr>\n",
       "    <tr>\n",
       "      <th>2</th>\n",
       "      <td>Chainlink</td>\n",
       "      <td>14.390000</td>\n",
       "      <td>9452957167</td>\n",
       "      <td>289883489</td>\n",
       "      <td>2025-06-04 09:03:36.071000+00:00</td>\n",
       "    </tr>\n",
       "    <tr>\n",
       "      <th>3</th>\n",
       "      <td>Litecoin</td>\n",
       "      <td>90.530000</td>\n",
       "      <td>6874421327</td>\n",
       "      <td>259733253</td>\n",
       "      <td>2025-06-04 09:03:31.083000+00:00</td>\n",
       "    </tr>\n",
       "    <tr>\n",
       "      <th>4</th>\n",
       "      <td>Uniswap</td>\n",
       "      <td>6.800000</td>\n",
       "      <td>4087409209</td>\n",
       "      <td>462490678</td>\n",
       "      <td>2025-06-04 09:03:34.109000+00:00</td>\n",
       "    </tr>\n",
       "  </tbody>\n",
       "</table>\n",
       "</div>"
      ],
      "text/plain": [
       "        name  current_price   market_cap  total_volume  \\\n",
       "0    Cardano       0.697935  25197582913     470370952   \n",
       "1   Polkadot       4.190000   6380775860     161377373   \n",
       "2  Chainlink      14.390000   9452957167     289883489   \n",
       "3   Litecoin      90.530000   6874421327     259733253   \n",
       "4    Uniswap       6.800000   4087409209     462490678   \n",
       "\n",
       "                              time  \n",
       "0 2025-06-04 09:03:31.651000+00:00  \n",
       "1 2025-06-04 09:03:31.149000+00:00  \n",
       "2 2025-06-04 09:03:36.071000+00:00  \n",
       "3 2025-06-04 09:03:31.083000+00:00  \n",
       "4 2025-06-04 09:03:34.109000+00:00  "
      ]
     },
     "execution_count": 4,
     "metadata": {},
     "output_type": "execute_result"
    }
   ],
   "source": [
    "# let's set time column as a pd.to_datetime obj\n",
    "df['time'] = pd.to_datetime(df['time'], utc=True)\n",
    "df.head()"
   ]
  },
  {
   "cell_type": "code",
   "execution_count": 5,
   "id": "d9ecc449",
   "metadata": {},
   "outputs": [
    {
     "data": {
      "text/plain": [
       "0      Cardano\n",
       "1     Polkadot\n",
       "2    Chainlink\n",
       "3     Litecoin\n",
       "4      Uniswap\n",
       "5      Stellar\n",
       "6        Aptos\n",
       "7          XRP\n",
       "8    Avalanche\n",
       "Name: name, dtype: object"
      ]
     },
     "execution_count": 5,
     "metadata": {},
     "output_type": "execute_result"
    }
   ],
   "source": [
    "# set the time column as the index for time-series analysis\n",
    "#df.set_index('time', inplace=True)\n",
    "df.head()\n",
    "df['name']"
   ]
  },
  {
   "cell_type": "code",
   "execution_count": 6,
   "id": "030b06d0",
   "metadata": {},
   "outputs": [
    {
     "data": {
      "text/plain": [
       "time\n",
       "2025-06-04 09:03:31.651000+00:00      Cardano\n",
       "2025-06-04 09:03:31.149000+00:00     Polkadot\n",
       "2025-06-04 09:03:36.071000+00:00    Chainlink\n",
       "2025-06-04 09:03:31.083000+00:00     Litecoin\n",
       "2025-06-04 09:03:34.109000+00:00      Uniswap\n",
       "2025-06-04 09:03:31.822000+00:00      Stellar\n",
       "2025-06-04 09:03:33.703000+00:00        Aptos\n",
       "2025-06-04 09:03:39.091000+00:00          XRP\n",
       "2025-06-04 09:03:30.989000+00:00    Avalanche\n",
       "Name: name, dtype: object"
      ]
     },
     "execution_count": 6,
     "metadata": {},
     "output_type": "execute_result"
    }
   ],
   "source": [
    "# Transpose the dataframe, setting coin_name as the column for easier querying\n",
    "df.set_index('time', inplace=True)\n",
    "df['name']\n"
   ]
  },
  {
   "cell_type": "code",
   "execution_count": 7,
   "id": "5c4f74f9",
   "metadata": {},
   "outputs": [
    {
     "name": "stdout",
     "output_type": "stream",
     "text": [
      "Data loaded successfully\n"
     ]
    }
   ],
   "source": [
    "# the dataset is clean, loading it into a mock table in the public schema\n",
    "engine = create_engine(DB_URL)\n",
    "try:\n",
    "    df.to_sql(name='mock_crypto_data', con=engine, schema='public', index=True, if_exists='append')\n",
    "    print(\"Data loaded successfully\")\n",
    "except Exception as e:\n",
    "    print(f\"Loading data: {e}\")\n"
   ]
  },
  {
   "cell_type": "markdown",
   "id": "37e48314",
   "metadata": {},
   "source": [
    "### Test ETL complete.\n",
    " Airflow can now be initialized using this info and hourly DAG for this ETL pipeline be set up.\n",
    " Tasks are:\n",
    "- extract_data: extracting data from API by looping through the list of coin IDs\n",
    "- transform_data: cleans data by setting time into a pd.to_datetime obj for time series analysis, setting time as the index and checking for column datatypes\n",
    "- load_to_db: loads the transformed dataframe into a Postgres DB whose port != 5432. Change this in the postgresql.conf file manually.\n"
   ]
  },
  {
   "cell_type": "code",
   "execution_count": 3,
   "id": "ca2bae0e",
   "metadata": {},
   "outputs": [
    {
     "data": {
      "text/plain": [
       "'2025:06:04'"
      ]
     },
     "execution_count": 3,
     "metadata": {},
     "output_type": "execute_result"
    }
   ],
   "source": [
    "from datetime import datetime\n",
    "\n",
    "today = datetime.today().strftime('%Y:%m:%d')\n",
    "today"
   ]
  }
 ],
 "metadata": {
  "kernelspec": {
   "display_name": "myenv",
   "language": "python",
   "name": "python3"
  },
  "language_info": {
   "codemirror_mode": {
    "name": "ipython",
    "version": 3
   },
   "file_extension": ".py",
   "mimetype": "text/x-python",
   "name": "python",
   "nbconvert_exporter": "python",
   "pygments_lexer": "ipython3",
   "version": "3.10.12"
  }
 },
 "nbformat": 4,
 "nbformat_minor": 5
}
